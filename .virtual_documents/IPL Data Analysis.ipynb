


import pandas as pd
import seaborn as sns
import matplotlib.pyplot as plt

# Aesthetics
sns.set(style="whitegrid")
plt.rcParams["figure.figsize"] = (12,6)



# Load matches and deliveries datasets
matches = pd.read_csv("matches.csv")
deliveries = pd.read_csv("deliveries.csv")

# Quick preview
matches.head()



# Count of matches won by each team
team_wins = matches["winner"].value_counts()

# Bar plot
sns.barplot(x=team_wins.values, y=team_wins.index, palette="crest")
plt.xlabel("Matches Won")
plt.ylabel("Team")
plt.title("Most Successful IPL Teams by Wins")
plt.show()



matches.info()
deliveries.info()




# Bar plot: Top Run-Scorers
sns.barplot(x=top_batsmen.values, y=top_batsmen.index, palette="viridis")
plt.xlabel("Total Runs")
plt.ylabel("Batsman")
plt.title("Top 10 Run Scorers in IPL")
plt.show()



top_batsmen = deliveries.groupby('batter')['batsman_runs'].sum().sort_values(ascending=False).head(5)

plt.figure(figsize=(8,5))
sns.barplot(x=top_batsmen.index, y=top_batsmen.values, palette='rocket')
plt.title('Top 5 Batsmen by Total Runs')
plt.ylabel('Total Runs')
plt.xlabel('Batsman')
plt.show()



# 4. Top Wicket-Takers
# Dismissal kinds to consider as wickets
wicket_kinds = ["bowled", "caught", "lbw", "stumped", "caught and bowled", "hit wicket"]
wickets = deliveries[deliveries["dismissal_kind"].isin(wicket_kinds)]
top_bowlers = wickets.groupby("bowler").size().sort_values(ascending=False).head(10)
top_bowlers



# Bar plot: Top Wicket-Takers
sns.barplot(x=top_bowlers.values, y=top_bowlers.index, palette="rocket")
plt.xlabel("Total Wickets")
plt.ylabel("Bowler")
plt.title("Top 10 Wicket Takers in IPL")
plt.show()



# 5. Most Successful Teams
team_wins = matches["winner"].value_counts()
team_wins



# Count plot: Matches won per team
sns.barplot(x=team_wins.values, y=team_wins.index, palette="magma")
plt.xlabel("Matches Won")
plt.ylabel("Team")
plt.title("Most Successful Teams in IPL")
plt.show()



# 6. Toss Decisions and Match Outcomes
toss_decision_outcome = matches.groupby(["toss_decision", "winner"]).size().reset_index(name="counts")
toss_decision_outcome.head()



# Count plot: Toss Decisions
sns.countplot(x="toss_decision", data=matches, palette="Set2")
plt.title("Toss Decisions Distribution")
plt.show()



# 7. Matches per Season
matches_per_season = matches["season"].value_counts().sort_index()
matches_per_season



# Line chart: Matches per Season
sns.lineplot(x=matches_per_season.index, y=matches_per_season.values, marker="o")
plt.xlabel("Season")
plt.ylabel("Number of Matches")
plt.title("Matches Played Per Season")
plt.show()








